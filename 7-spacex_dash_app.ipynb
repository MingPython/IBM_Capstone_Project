{
 "cells": [
  {
   "cell_type": "code",
   "execution_count": 1,
   "id": "f8c5bdd8-af2f-4901-9c0c-dfa1392e7b82",
   "metadata": {},
   "outputs": [],
   "source": [
    "# !pip install packaging"
   ]
  },
  {
   "cell_type": "code",
   "execution_count": 2,
   "id": "bcb16255-3878-4791-8f8c-efc5d00357f2",
   "metadata": {},
   "outputs": [],
   "source": [
    "# !pip install pandas dash"
   ]
  },
  {
   "cell_type": "code",
   "execution_count": 3,
   "id": "545a95e4-3877-4f80-81a6-7f6df160b710",
   "metadata": {},
   "outputs": [],
   "source": [
    "# !pip3 install httpx==0.20 dash plotly"
   ]
  },
  {
   "cell_type": "code",
   "execution_count": 4,
   "id": "1af2226c-fdcf-4f9f-8e7f-d52a49890cc4",
   "metadata": {},
   "outputs": [],
   "source": [
    "# Import required packages\n",
    "import pandas as pd\n",
    "import plotly.express as px\n",
    "import dash\n",
    "from dash import dcc\n",
    "from dash import html\n",
    "from dash.dependencies import Input, Output\n"
   ]
  },
  {
   "cell_type": "code",
   "execution_count": 5,
   "id": "742ab08b-7e8f-41a3-9403-21cdec74a5b3",
   "metadata": {},
   "outputs": [
    {
     "data": {
      "text/html": [
       "<div>\n",
       "<style scoped>\n",
       "    .dataframe tbody tr th:only-of-type {\n",
       "        vertical-align: middle;\n",
       "    }\n",
       "\n",
       "    .dataframe tbody tr th {\n",
       "        vertical-align: top;\n",
       "    }\n",
       "\n",
       "    .dataframe thead th {\n",
       "        text-align: right;\n",
       "    }\n",
       "</style>\n",
       "<table border=\"1\" class=\"dataframe\">\n",
       "  <thead>\n",
       "    <tr style=\"text-align: right;\">\n",
       "      <th></th>\n",
       "      <th>Unnamed: 0</th>\n",
       "      <th>Flight Number</th>\n",
       "      <th>Launch Site</th>\n",
       "      <th>class</th>\n",
       "      <th>Payload Mass (kg)</th>\n",
       "      <th>Booster Version</th>\n",
       "      <th>Booster Version Category</th>\n",
       "    </tr>\n",
       "  </thead>\n",
       "  <tbody>\n",
       "    <tr>\n",
       "      <th>0</th>\n",
       "      <td>0</td>\n",
       "      <td>1</td>\n",
       "      <td>CCAFS LC-40</td>\n",
       "      <td>0</td>\n",
       "      <td>0.0</td>\n",
       "      <td>F9 v1.0  B0003</td>\n",
       "      <td>v1.0</td>\n",
       "    </tr>\n",
       "    <tr>\n",
       "      <th>1</th>\n",
       "      <td>1</td>\n",
       "      <td>2</td>\n",
       "      <td>CCAFS LC-40</td>\n",
       "      <td>0</td>\n",
       "      <td>0.0</td>\n",
       "      <td>F9 v1.0  B0004</td>\n",
       "      <td>v1.0</td>\n",
       "    </tr>\n",
       "    <tr>\n",
       "      <th>2</th>\n",
       "      <td>2</td>\n",
       "      <td>3</td>\n",
       "      <td>CCAFS LC-40</td>\n",
       "      <td>0</td>\n",
       "      <td>525.0</td>\n",
       "      <td>F9 v1.0  B0005</td>\n",
       "      <td>v1.0</td>\n",
       "    </tr>\n",
       "    <tr>\n",
       "      <th>3</th>\n",
       "      <td>3</td>\n",
       "      <td>4</td>\n",
       "      <td>CCAFS LC-40</td>\n",
       "      <td>0</td>\n",
       "      <td>500.0</td>\n",
       "      <td>F9 v1.0  B0006</td>\n",
       "      <td>v1.0</td>\n",
       "    </tr>\n",
       "    <tr>\n",
       "      <th>4</th>\n",
       "      <td>4</td>\n",
       "      <td>5</td>\n",
       "      <td>CCAFS LC-40</td>\n",
       "      <td>0</td>\n",
       "      <td>677.0</td>\n",
       "      <td>F9 v1.0  B0007</td>\n",
       "      <td>v1.0</td>\n",
       "    </tr>\n",
       "  </tbody>\n",
       "</table>\n",
       "</div>"
      ],
      "text/plain": [
       "   Unnamed: 0  Flight Number  Launch Site  class  Payload Mass (kg)  \\\n",
       "0           0              1  CCAFS LC-40      0                0.0   \n",
       "1           1              2  CCAFS LC-40      0                0.0   \n",
       "2           2              3  CCAFS LC-40      0              525.0   \n",
       "3           3              4  CCAFS LC-40      0              500.0   \n",
       "4           4              5  CCAFS LC-40      0              677.0   \n",
       "\n",
       "  Booster Version Booster Version Category  \n",
       "0  F9 v1.0  B0003                     v1.0  \n",
       "1  F9 v1.0  B0004                     v1.0  \n",
       "2  F9 v1.0  B0005                     v1.0  \n",
       "3  F9 v1.0  B0006                     v1.0  \n",
       "4  F9 v1.0  B0007                     v1.0  "
      ]
     },
     "execution_count": 5,
     "metadata": {},
     "output_type": "execute_result"
    }
   ],
   "source": [
    "# Read the airline data into pandas dataframe\n",
    "spacex_df =  pd.read_csv('https://cf-courses-data.s3.us.cloud-object-storage.appdomain.cloud/IBM-DS0321EN-SkillsNetwork/datasets/spacex_launch_dash.csv')\n",
    "spacex_df.shape    # 56, 7\n",
    "max_payload = spacex_df['Payload Mass (kg)'].max()\n",
    "min_payload = spacex_df['Payload Mass (kg)'].min()\n",
    "\n",
    "# # Pie Chart Creation\n",
    "# fig = px.pie(data, values='Flights', names='DistanceGroup', title='Distance group proportion by flights')\n",
    "spacex_df.head()"
   ]
  },
  {
   "cell_type": "markdown",
   "id": "fff95397-62ce-4744-8548-7403996a9d74",
   "metadata": {},
   "source": [
    "## TASK 1: Add a Launch Site Drop-down Input Component"
   ]
  },
  {
   "cell_type": "code",
   "execution_count": 8,
   "id": "beaa8cd2-f4c9-4bf1-809c-b5aa2ae6834d",
   "metadata": {},
   "outputs": [],
   "source": [
    "app = dash.Dash(__name__)\n",
    "\n",
    "app.layout = html.Div(children=[html.H1('SpaceX Launch Records Dashboard', style={'textAlign': 'center', 'color': '#503D36',\n",
    "                                               'font-size': 40}),\n",
    "                                dcc.Dropdown(id='site-dropdown',\n",
    "                                             options=[{'label': 'All Sites', 'value': 'ALL'},\n",
    "                                                     {'label': 'CCAFS LC-40', 'value': 'CCAFS LC-40'},\n",
    "                                                     {'label': 'VAFB SLC-4E', 'value': 'VAFB SLC-4E'},\n",
    "                                                     {'label': 'KSC LC-39A', 'value': 'KSC LC-39A'},\n",
    "                                                     {'label': 'CCAFS SLC-40', 'value': 'CCAFS SLC-40'}\n",
    "                                                     ],\n",
    "                                             value='ALL',\n",
    "                                             placeholder='Select a Launch Site here',\n",
    "                                             searchable=True\n",
    "                                             ),\n",
    "                                html.Br(),\n",
    "                                \n",
    "                                # TASK 2: Add a pie chart to show the total successful launches count for all sites or the entered site.\n",
    "                                html.Div(dcc.Graph(id='success-pie-chart')),\n",
    "\n",
    "                                html.Br(),\n",
    "\n",
    "                                # TASK 3: Add a Range Slider to Select Payload\n",
    "                                dcc.RangeSlider(id='payload-slider', \n",
    "                                                min=0, max=10000, step=1000, \n",
    "                                                marks={0: '0', 2500: '2500',5000: '5000',7500: '7500', 10000: '10000'}, \n",
    "                                                value=[min_payload, max_payload]),\n",
    "                                html.Br(),\n",
    "                                \n",
    "                                # TASK 4: Add a callback function to render the success-payload-scatter-chart scatter plot.\n",
    "                                html.Div(dcc.Graph(id='success-payload-scatter-chart')),\n",
    "                                ])\n",
    "\n",
    "\n"
   ]
  },
  {
   "cell_type": "markdown",
   "id": "56b1c08e-9dbe-4a98-956d-096491ab0985",
   "metadata": {},
   "source": [
    "## TASK 2: Add a callback function to render success-pie-chart based on selected site dropdown"
   ]
  },
  {
   "cell_type": "code",
   "execution_count": 9,
   "id": "7ce821fc-2768-4e17-a4b3-2cb471a5bf43",
   "metadata": {},
   "outputs": [],
   "source": [
    "# Function decorator to specify function input and output\n",
    "@app.callback(Output(component_id='success-pie-chart', component_property='figure'),\n",
    "              Input(component_id='site-dropdown', component_property='value'))\n",
    "\n",
    "def get_pie_chart(entered_site):\n",
    "    if entered_site == 'ALL':\n",
    "        fig = px.pie(spacex_df, values='class', names='Launch Site', title='Total Success Launches')\n",
    "        return fig\n",
    "    else:\n",
    "        filtered_df = spacex_df[spacex_df['Launch Site']==entered_site]\n",
    "        counts = filtered_df['class'].value_counts().reset_index()\n",
    "        counts.columns = ['class', 'count']\n",
    "        fig = px.pie(counts, values='count', names = 'class', title = f'Success Launches at {entered_site}', color='class',\n",
    "                 color_discrete_map={0: 'blue', 1: 'red'})\n",
    "        return fig"
   ]
  },
  {
   "cell_type": "markdown",
   "id": "bb79415b-6240-43db-a739-fe6ca266c5f2",
   "metadata": {},
   "source": [
    "## TASK 4: Add a callback function to render the success-payload-scatter-chart scatter plot"
   ]
  },
  {
   "cell_type": "code",
   "execution_count": 10,
   "id": "1e27d0b4-0116-4c9b-8443-2bed8664b731",
   "metadata": {},
   "outputs": [],
   "source": [
    "@app.callback(Output(component_id='success-payload-scatter-chart', component_property='figure'),\n",
    "              [Input(component_id='site-dropdown', component_property='value'), \n",
    "               Input(component_id='payload-slider', component_property='value')])\n",
    "\n",
    "def get_scatter_chart(entered_site, payload_range):\n",
    "    low, high = payload_range\n",
    "    filtered_df = spacex_df[(spacex_df['Payload Mass (kg)'] >= low) & (spacex_df['Payload Mass (kg)'] <= high)]\n",
    "    if entered_site == 'ALL':\n",
    "        fig = px.scatter(filtered_df, y='class', x='Payload Mass (kg)', \n",
    "                     title='Total success-payload-scatter-chart', \n",
    "                     color=\"Booster Version Category\")\n",
    "        return fig\n",
    "    else:\n",
    "        filtered2_df = filtered_df[filtered_df['Launch Site']==entered_site]\n",
    "        fig = px.scatter(filtered2_df, y='class', x='Payload Mass (kg)', \n",
    "                     title = f'Success-payload-scatter-chart at {entered_site}',\n",
    "                     color=\"Booster Version Category\")\n",
    "        return fig"
   ]
  },
  {
   "cell_type": "code",
   "execution_count": 11,
   "id": "62c3ef52-a362-4331-8ac3-f5de0aea3386",
   "metadata": {},
   "outputs": [
    {
     "data": {
      "text/html": [
       "\n",
       "        <iframe\n",
       "            width=\"100%\"\n",
       "            height=\"650\"\n",
       "            src=\"http://127.0.0.1:8051/\"\n",
       "            frameborder=\"0\"\n",
       "            allowfullscreen\n",
       "            \n",
       "        ></iframe>\n",
       "        "
      ],
      "text/plain": [
       "<IPython.lib.display.IFrame at 0x19c9a252490>"
      ]
     },
     "metadata": {},
     "output_type": "display_data"
    }
   ],
   "source": [
    "# Run the app\n",
    "if __name__ == '__main__':\n",
    "    app.run_server(debug=True, port=8051)"
   ]
  },
  {
   "cell_type": "code",
   "execution_count": null,
   "id": "5707b25e-2380-4c3a-8c7c-c96e92874f7d",
   "metadata": {},
   "outputs": [],
   "source": []
  }
 ],
 "metadata": {
  "kernelspec": {
   "display_name": "Python 3 (ipykernel)",
   "language": "python",
   "name": "python3"
  },
  "language_info": {
   "codemirror_mode": {
    "name": "ipython",
    "version": 3
   },
   "file_extension": ".py",
   "mimetype": "text/x-python",
   "name": "python",
   "nbconvert_exporter": "python",
   "pygments_lexer": "ipython3",
   "version": "3.11.6"
  }
 },
 "nbformat": 4,
 "nbformat_minor": 5
}
